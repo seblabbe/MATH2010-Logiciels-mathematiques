{
 "cells": [
  {
   "cell_type": "markdown",
   "metadata": {},
   "source": [
    "$$\n",
    "\\def\\CC{\\bf C}\n",
    "\\def\\QQ{\\bf Q}\n",
    "\\def\\RR{\\bf R}\n",
    "\\def\\ZZ{\\bf Z}\n",
    "\\def\\NN{\\bf N}\n",
    "$$\n",
    "# Tracer une fonction"
   ]
  },
  {
   "cell_type": "code",
   "execution_count": 1,
   "metadata": {
    "collapsed": true
   },
   "outputs": [],
   "source": [
    "from __future__ import division, print_function   # Python 3\n",
    "from sympy import init_printing\n",
    "init_printing(use_latex='mathjax',use_unicode=False)  # Affichage des résultats"
   ]
  },
  {
   "cell_type": "markdown",
   "metadata": {},
   "source": [
    "La librairie Sympy utilise [matplotlib](http://matplotlib.org/), une autre librairie de Python, pour faire des dessins. Pour activer l'affichage des graphiques dans Jupyter, on écrit d'abord ceci dans une cellule:"
   ]
  },
  {
   "cell_type": "code",
   "execution_count": 2,
   "metadata": {
    "collapsed": false
   },
   "outputs": [
    {
     "name": "stderr",
     "output_type": "stream",
     "text": [
      "/home/labbe/Applications/sage-git/local/lib/python2.7/site-packages/traitlets/traitlets.py:770: DeprecationWarning: A parent of InlineBackend._config_changed has adopted the new @observe(change) API\n",
      "  clsname, change_or_name), DeprecationWarning)\n"
     ]
    }
   ],
   "source": [
    "%matplotlib inline"
   ]
  },
  {
   "cell_type": "markdown",
   "metadata": {},
   "source": [
    "## Tracer une fonction $\\RR\\to\\RR$\n",
    "\n",
    "On importe la fonction `plot` qui permet de dessiner des fonctions:"
   ]
  },
  {
   "cell_type": "code",
   "execution_count": 3,
   "metadata": {
    "collapsed": true
   },
   "outputs": [],
   "source": [
    "from sympy import plot  "
   ]
  },
  {
   "cell_type": "markdown",
   "metadata": {},
   "source": [
    "Un premier exemple. Par défaut, l'intervalle pour les $x$ est $[-10,10]$ :"
   ]
  },
  {
   "cell_type": "code",
   "execution_count": 4,
   "metadata": {
    "collapsed": false
   },
   "outputs": [
    {
     "data": {
      "image/png": "[encoded data removed]",
      "text/plain": [
       "<matplotlib.figure.Figure at 0x7fa3304ab5d0>"
      ]
     },
     "metadata": {},
     "output_type": "display_data"
    },
    {
     "data": {
      "text/plain": [
       "<sympy.plotting.plot.Plot at 0x7fa25ab4f990>"
      ]
     },
     "execution_count": 4,
     "metadata": {},
     "output_type": "execute_result"
    }
   ],
   "source": [
    "from sympy import sin\n",
    "from sympy.abc import x\n",
    "plot(sin(x))"
   ]
  },
  {
   "cell_type": "markdown",
   "metadata": {},
   "source": [
    "<img src=\"images/sin_x.png\" alt=\"image\" width=\"264\" />\n",
    "\n",
    "Un deuxième exemple sur l'intervalle $[-100, 100]$ :"
   ]
  },
  {
   "cell_type": "code",
   "execution_count": 5,
   "metadata": {
    "collapsed": false
   },
   "outputs": [
    {
     "data": {
      "image/png": "[encoded data removed]",
      "text/plain": [
       "<matplotlib.figure.Figure at 0x7fa256668250>"
      ]
     },
     "metadata": {},
     "output_type": "display_data"
    },
    {
     "data": {
      "text/plain": [
       "<sympy.plotting.plot.Plot at 0x7fa258159790>"
      ]
     },
     "execution_count": 5,
     "metadata": {},
     "output_type": "execute_result"
    }
   ],
   "source": [
    "plot(sin(x)/x, (x,-100,100))"
   ]
  },
  {
   "cell_type": "code",
   "execution_count": null,
   "metadata": {
    "collapsed": true
   },
   "outputs": [],
   "source": []
  },
  {
   "cell_type": "markdown",
   "metadata": {},
   "source": [
    "<img src=\"images/sinx_x.png\" alt=\"image\" width=\"264\" />\n",
    "\n",
    "On trace une parabole de couleur rouge dans l'intervale $[-5, 5]$ avec un titre:"
   ]
  },
  {
   "cell_type": "code",
   "execution_count": null,
   "metadata": {
    "collapsed": true
   },
   "outputs": [],
   "source": [
    "plot(x**2+x-6, (x,-5,5), line_color='red', title='Youpi')"
   ]
  },
  {
   "cell_type": "markdown",
   "metadata": {},
   "source": [
    "<img src=\"images/youpi.png\" alt=\"image\" width=\"264\" />\n",
    "\n",
    "## Tracer plusieurs fonctions $\\RR\\to\\RR$\n",
    "\n",
    "On trace plusieurs fonctions sur le même intervalle de la façon suivante. Dans cet exemple, on a aussi spécifier une limite inférieure et supérieure pour l'axe des $y$ :"
   ]
  },
  {
   "cell_type": "code",
   "execution_count": null,
   "metadata": {
    "collapsed": true
   },
   "outputs": [],
   "source": [
    "plot(x, x**2, x**3, (x, -2, 2), ylim=(-2,2))"
   ]
  },
  {
   "cell_type": "markdown",
   "metadata": {},
   "source": [
    "<img src=\"images/x_x2_x3.png\" alt=\"image\" width=\"226\" />\n",
    "\n",
    "Pour dessiner les trois fonctions avec des couleurs différentes, il faut créer un dessin à la fois et ensuite les combiner. L'option `show=False` permet d'éviter d'afficher les dessins intermédiaires:"
   ]
  },
  {
   "cell_type": "code",
   "execution_count": null,
   "metadata": {
    "collapsed": true
   },
   "outputs": [],
   "source": [
    "p1 = plot(x,    (x, -1, 1), show=False, line_color='b')\n",
    "p2 = plot(x**2, (x, -1, 1), show=False, line_color='r')\n",
    "p3 = plot(x**3, (x, -1, 1), show=False, line_color='g')"
   ]
  },
  {
   "cell_type": "markdown",
   "metadata": {},
   "source": [
    "On ajoute à `p1` les graphes `p2` et `p3` :"
   ]
  },
  {
   "cell_type": "code",
   "execution_count": null,
   "metadata": {
    "collapsed": true
   },
   "outputs": [],
   "source": [
    "p1.extend(p2)\n",
    "p1.extend(p3)"
   ]
  },
  {
   "cell_type": "markdown",
   "metadata": {},
   "source": [
    "Maintenant `p1` contient les trois graphes:"
   ]
  },
  {
   "cell_type": "code",
   "execution_count": null,
   "metadata": {
    "collapsed": false
   },
   "outputs": [
    {
     "data": {
      "text/plain": [
       "Plot object containing:\n",
       "[0]: cartesian line: x for x over (-1.0, 1.0)\n",
       "[1]: cartesian line: x**2 for x over (-1.0, 1.0)\n",
       "[2]: cartesian line: x**3 for x over (-1.0, 1.0)"
      ]
     },
     "execution_count": 1,
     "metadata": {},
     "output_type": "execute_result"
    }
   ],
   "source": [
    "print(p1)"
   ]
  },
  {
   "cell_type": "markdown",
   "metadata": {},
   "source": [
    "On affiche le graphe des trois fonctions:"
   ]
  },
  {
   "cell_type": "code",
   "execution_count": null,
   "metadata": {
    "collapsed": true
   },
   "outputs": [],
   "source": [
    "p1.show()"
   ]
  },
  {
   "cell_type": "markdown",
   "metadata": {},
   "source": [
    "<img src=\"images/x_x2_x3_colors.png\" alt=\"image\" width=\"226\" />\n",
    "\n",
    "## Tracer une fonction $\\RR^2\\to\\RR$\n",
    "\n",
    "On importe la fonction `plot3d` du sous-module `sympy.plotting` :"
   ]
  },
  {
   "cell_type": "code",
   "execution_count": null,
   "metadata": {
    "collapsed": true
   },
   "outputs": [],
   "source": [
    "from sympy.plotting import plot3d"
   ]
  },
  {
   "cell_type": "markdown",
   "metadata": {},
   "source": [
    "Un premier exemple:"
   ]
  },
  {
   "cell_type": "code",
   "execution_count": null,
   "metadata": {
    "collapsed": true
   },
   "outputs": [],
   "source": [
    "from sympy.abc import x,y\n",
    "plot3d(x**2+y**2)"
   ]
  },
  {
   "cell_type": "markdown",
   "metadata": {},
   "source": [
    "<img src=\"images/x2_y2.png\" alt=\"image\" width=\"264\" />\n",
    "\n",
    "Un deuxième exemple:"
   ]
  },
  {
   "cell_type": "code",
   "execution_count": null,
   "metadata": {
    "collapsed": true
   },
   "outputs": [],
   "source": [
    "plot3d(sin(x*10)*cos(y*4), (x, -1, 1), (y, -1, 1))"
   ]
  },
  {
   "cell_type": "markdown",
   "metadata": {},
   "source": [
    "<img src=\"images/sin10x_cos4y.png\" alt=\"image\" width=\"264\" />\n",
    "\n",
    "On trouvera d'autres exemples en consultant la documentation de `plot?` et `plot3d?` ou dans la section Plotting du tutoriel de Sympy: <http://docs.sympy.org/latest/modules/plotting.html>\n",
    "\n",
    "## Dessiner une fonction $\\RR\\to\\RR^2$\n",
    "\n",
    "Dans cette section et les suivantes, on aura utilisera les fonctions et variables symboliques suivantes:"
   ]
  },
  {
   "cell_type": "code",
   "execution_count": null,
   "metadata": {
    "collapsed": true
   },
   "outputs": [],
   "source": [
    "from sympy import sin, cos\n",
    "from sympy.abc import u, v"
   ]
  },
  {
   "cell_type": "markdown",
   "metadata": {},
   "source": [
    "La fonction `plot_parametric` permet de tracer des fonctions paramétrés $\\RR\\to\\RR^2$. Par exemple, on trace la [courbe de Lissajous](https://en.wikipedia.org/wiki/Lissajous_curve) lorsque $a=3$ et $b=2$ :"
   ]
  },
  {
   "cell_type": "code",
   "execution_count": null,
   "metadata": {
    "collapsed": true
   },
   "outputs": [],
   "source": [
    "from sympy.plotting import plot_parametric\n",
    "plot_parametric(cos(3*u), sin(2*u), (u, -5, 5))"
   ]
  },
  {
   "cell_type": "markdown",
   "metadata": {},
   "source": [
    "<img src=\"images/lissajous.png\" alt=\"image\" width=\"226\" />\n",
    "\n",
    "## Dessiner une fonction $\\RR\\to\\RR^3$\n",
    "\n",
    "La fonction `plot3d_parametric_line` permet de tracer des courbes dans l'espace 3d. Par exemple, on trace une hélice:"
   ]
  },
  {
   "cell_type": "code",
   "execution_count": null,
   "metadata": {
    "collapsed": true
   },
   "outputs": [],
   "source": [
    "from sympy.plotting import plot3d_parametric_line\n",
    "plot3d_parametric_line(cos(u), sin(u), u, (u, -15, 15))"
   ]
  },
  {
   "cell_type": "markdown",
   "metadata": {},
   "source": [
    "<img src=\"images/helice.png\" alt=\"image\" width=\"302\" />\n",
    "\n",
    "## Dessiner une fonction $\\RR^2\\to\\RR^3$\n",
    "\n",
    "La fonction `plot3d_parametric_surface` permet de tracer des surfaces dans $\\RR^3$. Par exemple, on trace un tore:"
   ]
  },
  {
   "cell_type": "code",
   "execution_count": null,
   "metadata": {
    "collapsed": true
   },
   "outputs": [],
   "source": [
    "from sympy.plotting import plot3d_parametric_surface\n",
    "X = cos(u)*(5+2*cos(v))\n",
    "Y = sin(u)*(5+2*cos(v))\n",
    "Z = 2*sin(v)\n",
    "plot3d_parametric_surface(X, Y, Z, (u, -.5, 4), (v, -5, 5))"
   ]
  },
  {
   "cell_type": "markdown",
   "metadata": {},
   "source": [
    "<img src=\"images/tore.png\" alt=\"image\" width=\"302\" />\n",
    "\n",
    "## Dessiner les solutions d'une équation implicite"
   ]
  },
  {
   "cell_type": "code",
   "execution_count": null,
   "metadata": {
    "collapsed": true
   },
   "outputs": [],
   "source": [
    "from sympy import plot_implicit, Eq\n",
    "from sympy.abc import x, y"
   ]
  },
  {
   "cell_type": "markdown",
   "metadata": {},
   "source": [
    "La fonction `plot_implicit` permet de tracer les solutions d'une équation implicite:"
   ]
  },
  {
   "cell_type": "code",
   "execution_count": null,
   "metadata": {
    "collapsed": false
   },
   "outputs": [
    {
     "data": {
      "text/plain": [
       "x**2 + x*y - 2*x + y**2 == 5"
      ]
     },
     "execution_count": 1,
     "metadata": {},
     "output_type": "execute_result"
    }
   ],
   "source": [
    "eq = Eq(x**2+y**2+x*y-2*x, 5)\n",
    "eq"
   ]
  },
  {
   "cell_type": "code",
   "execution_count": null,
   "metadata": {
    "collapsed": true
   },
   "outputs": [],
   "source": [
    "plot_implicit(eq)"
   ]
  },
  {
   "cell_type": "markdown",
   "metadata": {},
   "source": [
    "<img src=\"images/rotated_ellipse.png\" alt=\"image\" width=\"453\" />\n",
    "\n",
    "On peut modifier les étendues des variables `x` et `y` de la façon suivante (le dessin n'est pas affiché dans ces notes):"
   ]
  },
  {
   "cell_type": "code",
   "execution_count": null,
   "metadata": {
    "collapsed": true
   },
   "outputs": [],
   "source": [
    "plot_implicit(eq, (x,-2,5), (y,-5,3))"
   ]
  },
  {
   "cell_type": "markdown",
   "metadata": {},
   "source": [
    "## Tracer une région de $\\RR^2$\n",
    "\n",
    "La fonction `plot_implicit` peut aussi servir à dessiner une région de points qui satisfont une inégalité:"
   ]
  },
  {
   "cell_type": "code",
   "execution_count": null,
   "metadata": {
    "collapsed": true
   },
   "outputs": [],
   "source": [
    "plot_implicit(y > 2*x+1)"
   ]
  },
  {
   "cell_type": "markdown",
   "metadata": {},
   "source": [
    "<img src=\"images/region.png\" alt=\"image\" width=\"302\" />\n",
    "\n",
    "Pour tracer la région définie par plusieurs inégalités, on utilise la fonction `And` de sympy:"
   ]
  },
  {
   "cell_type": "code",
   "execution_count": null,
   "metadata": {
    "collapsed": true
   },
   "outputs": [],
   "source": [
    "from sympy import And\n",
    "plot_implicit(And(y>2*x+1, y<5*x, x+y<5))"
   ]
  },
  {
   "cell_type": "markdown",
   "metadata": {},
   "source": [
    "<img src=\"images/region_bornee.png\" alt=\"image\" width=\"302\" />\n",
    "\n",
    "## Dessiner une fonction complexe avec mpmath\n",
    "\n",
    "[mpmath](http://mpmath.org/) est une librairie Python pour faire des calculs en précision arbitraire sur les nombres flottants. Elle permet aussi de faire des [dessins de fonctions complexes](http://mpmath.googlecode.com/svn/gallery/gallery.html).\n",
    "\n",
    "La façon d'importer la librairie mpmath n'est pas exactement la même selon qu'on utilise une installation normale de SymPy ou qu'on utilise SageMath:"
   ]
  },
  {
   "cell_type": "code",
   "execution_count": null,
   "metadata": {
    "collapsed": true
   },
   "outputs": [],
   "source": [
    "from sympy import mpmath    # Sympy (installation normale)\n",
    "import mpmath               # SageMath"
   ]
  },
  {
   "cell_type": "markdown",
   "metadata": {},
   "source": [
    "Rappelons que sans la ligne suivante, les dessins ne s'afficheront pas:"
   ]
  },
  {
   "cell_type": "code",
   "execution_count": null,
   "metadata": {
    "collapsed": true
   },
   "outputs": [],
   "source": [
    "%matplotlib inline"
   ]
  },
  {
   "cell_type": "markdown",
   "metadata": {},
   "source": [
    "La syntaxe des arguments n'est pas exactement la même que pour la fonction `plot` de SymPy. Il faut définir une fonction Python avec la commande `def` ou encore sur une ligne avec `lambda`. Par exemple, la fonction identité peut s'écrire `lambda z:z` en Python.\n",
    "\n",
    "On trace la fonction identité pour comprendre la signification de l'image obtenue:"
   ]
  },
  {
   "cell_type": "code",
   "execution_count": null,
   "metadata": {
    "collapsed": true
   },
   "outputs": [],
   "source": [
    "mpmath.cplot(lambda z: z, [-10, 10], [-10, 10])"
   ]
  },
  {
   "cell_type": "markdown",
   "metadata": {},
   "source": [
    "<img src=\"images/z.png\" alt=\"image\" width=\"264\" />\n",
    "\n",
    "Les couleurs de l'arc en ciel doivent être interprétés comme l'argument d'un nombre complexe (rouge pour un nombre réel positif). Le module du nombre complexe est représenté par la transparence (0=noir opaque, $\\infty$ = `oo` = blanc transparent).\n",
    "\n",
    "De la même façon, on ne peut pas utiliser le `I` de sympy avec mpmath, il faut utiliser les nombres complexes de Python. Le dessin suivant illustre la multiplication par le nombre complexe $i$, c'est-à-dire une rotation de 90 degrés:"
   ]
  },
  {
   "cell_type": "code",
   "execution_count": null,
   "metadata": {
    "collapsed": true
   },
   "outputs": [],
   "source": [
    "I = complex(0,1)         # le nombre complexe I de Python\n",
    "mpmath.cplot(lambda z: I*z, [-10, 10], [-10, 10])"
   ]
  },
  {
   "cell_type": "markdown",
   "metadata": {},
   "source": [
    "Les pixels en rouges sont envoyés sur la droite réelle positive par la fonction `lambda z: I*z`.\n",
    "\n",
    "<img src=\"images/Iz.png\" alt=\"image\" width=\"264\" />\n",
    "\n",
    "Le dessin suivant permet de voir les cinq racines cinquième de l'unité:"
   ]
  },
  {
   "cell_type": "code",
   "execution_count": null,
   "metadata": {
    "collapsed": true
   },
   "outputs": [],
   "source": [
    "mpmath.cplot(lambda z: z**5-1, [-2, 2], [-2, 2])"
   ]
  },
  {
   "cell_type": "markdown",
   "metadata": {},
   "source": [
    "<img src=\"images/z5_1.png\" alt=\"image\" width=\"264\" />\n",
    "\n",
    "Cela permet aussi d'étudier les zéros de la fonction zeta de Riemann:"
   ]
  },
  {
   "cell_type": "code",
   "execution_count": null,
   "metadata": {
    "collapsed": true
   },
   "outputs": [],
   "source": [
    "from mpmath import zeta\n",
    "mpmath.cplot(zeta, [-10, 10], [-50, 50])"
   ]
  },
  {
   "cell_type": "markdown",
   "metadata": {},
   "source": [
    "<img src=\"images/zeta.png\" alt=\"image\" width=\"75\" />\n",
    "\n",
    "mpmath offre aussi sa propre fonction de dessin `mpmath.plot` ainsi qu'une fonction pour dessiner des surfaces en 3d `mpmath.splot`. On trouvera d'autres exemples dans la page suivante de la documentation de Sympy: <http://docs.sympy.org/latest/modules/mpmath/plotting.html>"
   ]
  }
 ],
 "metadata": {
  "kernelspec": {
   "display_name": "Python 2",
   "language": "python",
   "name": "python2"
  },
  "language_info": {
   "codemirror_mode": {
    "name": "ipython",
    "version": 2
   },
   "file_extension": ".py",
   "mimetype": "text/x-python",
   "name": "python",
   "nbconvert_exporter": "python",
   "pygments_lexer": "ipython2",
   "version": "2.7.10"
  }
 },
 "nbformat": 4,
 "nbformat_minor": 0
}
