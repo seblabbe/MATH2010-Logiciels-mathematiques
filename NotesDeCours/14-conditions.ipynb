{
 "nbformat_minor": 0, 
 "nbformat": 4, 
 "cells": [
  {
   "source": [
    "$$\n", 
    "\\def\\CC{\\bf C}\n", 
    "\\def\\QQ{\\bf Q}\n", 
    "\\def\\RR{\\bf R}\n", 
    "\\def\\ZZ{\\bf Z}\n", 
    "\\def\\NN{\\bf N}\n", 
    "$$\n", 
    "# Conditions `if`"
   ], 
   "cell_type": "markdown", 
   "metadata": {}
  }, 
  {
   "execution_count": null, 
   "cell_type": "code", 
   "source": [
    "from __future__ import division, print_function   # Python 3"
   ], 
   "outputs": [], 
   "metadata": {}
  }, 
  {
   "source": [
    "Les conditions sont, avec les boucles, les \u00e9l\u00e9ments les plus importants de la programmation. Elles permettent de formaliser la prise de d\u00e9cisions selon l'information dispos\u00e9e. Faisons un exemple, supposons que nous sommes sur l'autoroute en voiture et que l'on peut faire le plein \u00e0 la prochaine sortie. Est-ce qu'on prend la sortie ou est-ce qu'on reste sur l'autoroute? Supposons que la variable `reservoir` prend une valeur entre 0 et 1 et indique le pourcentage d'espace occup\u00e9 par l'essence dans le r\u00e9servoir. Une premi\u00e8re fa\u00e7on de prendre la d\u00e9cision pourrait s'\u00e9crire en Python:"
   ], 
   "cell_type": "markdown", 
   "metadata": {}
  }, 
  {
   "execution_count": null, 
   "cell_type": "code", 
   "source": [
    "if reservoir < 0.15:\n", 
    "    print('Prendre la sortie')\n", 
    "else:\n", 
    "    print('Rester sur l'autoroute')"
   ], 
   "outputs": [], 
   "metadata": {}
  }, 
  {
   "source": [
    "Bien s\u00fbr, on pourrait aussi am\u00e9liorer la prise de d\u00e9cision en consid\u00e9rant la distance de la prochaine station d'essense et comparer avec la distance pouvant \u00eatre parcourue avec ce qui reste d'essence, etc. Mais, pour le moment, l'important est de comprendre comment on \u00e9crit une condition simple en Python.\n", 
    "\n", 
    "## La forme `if - else`\n", 
    "\n", 
    "La forme g\u00e9n\u00e9rale est la suivante:"
   ], 
   "cell_type": "markdown", 
   "metadata": {}
  }, 
  {
   "execution_count": null, 
   "cell_type": "code", 
   "source": [
    "if <condition>:\n", 
    "    <code ex\u00e9cut\u00e9 si la condition est satisfaite, i.e., True>\n", 
    "else:\n", 
    "    <code ex\u00e9cut\u00e9 si la condition n'est pas satisfaite, i.e., False>"
   ], 
   "outputs": [], 
   "metadata": {}
  }, 
  {
   "source": [
    "La `<condition>` est une expression qui retourne une valeur bool\u00e9enne `True` ou `False`. Elle s'\u00e9crit avec un `if` et la ligne doit se terminer avec les deux points `:`. Si la condition est v\u00e9rifi\u00e9e, c'est-\u00e0-dire si la condition est \u00e9valu\u00e9e \u00e0 `True`, alors le code indent\u00e9 de 4 espaces sous la ligne `if` est ex\u00e9cut\u00e9. Sinon, c'est-\u00e0-dire si la condition est \u00e9valu\u00e9e \u00e0 `False`, alors c'est le code indent\u00e9 de 4 espaces sous la ligne `else:` qui est ex\u00e9cut\u00e9.\n", 
    "\n", 
    "## La forme `if - elif - else`\n", 
    "\n", 
    "Parfois, il y a plusieurs cas \u00e0 tester. Il est possible d'embo\u00eeter les conditions:"
   ], 
   "cell_type": "markdown", 
   "metadata": {}
  }, 
  {
   "execution_count": null, 
   "cell_type": "code", 
   "source": [
    "if reservoir == 0:\n", 
    "    print(\"Panne d'essence\")\n", 
    "else:\n", 
    "    if 0 < reservoir < 0.15:\n", 
    "        print('Prendre la sortie')\n", 
    "    else:\n", 
    "        print('Rester sur l'autoroute')"
   ], 
   "outputs": [], 
   "metadata": {}
  }, 
  {
   "source": [
    "Mais en Python, ce qui n'est pas le cas dans tous les langages de programmation, le `else if` s'\u00e9crit de fa\u00e7on abr\u00e9g\u00e9e `elif` ce qui permet de limiter l'indentation du code. On pr\u00e9f\u00e9rera donc \u00e9crire en Python le code ci-haut de la fa\u00e7on suivante:"
   ], 
   "cell_type": "markdown", 
   "metadata": {}
  }, 
  {
   "execution_count": null, 
   "cell_type": "code", 
   "source": [
    "if reservoir == 0:\n", 
    "    print(\"Panne d'essence\")\n", 
    "elif 0 < reservoir < 0.15:\n", 
    "    print('Prendre la sortie')\n", 
    "else:\n", 
    "    print('Rester sur l'autoroute')"
   ], 
   "outputs": [], 
   "metadata": {}
  }, 
  {
   "source": [
    "## La forme `if` seul\n", 
    "\n", 
    "La ligne `elif` ou la ligne `else` n'est pas obligatoire car parfois on ne veut rien faire si la condition n'est pas satisfaite. Dans ce cas, on \u00e9crit simplement:"
   ], 
   "cell_type": "markdown", 
   "metadata": {}
  }, 
  {
   "execution_count": null, 
   "cell_type": "code", 
   "source": [
    "if reservoir == 0:\n", 
    "    print(\"Panne d'essence\")"
   ], 
   "outputs": [], 
   "metadata": {}
  }, 
  {
   "source": [
    "## La forme `if - elif - ... - elif - else`\n", 
    "\n", 
    "Il peut y avoir plusieurs lignes de `elif` :"
   ], 
   "cell_type": "markdown", 
   "metadata": {}
  }, 
  {
   "execution_count": null, 
   "cell_type": "code", 
   "source": [
    "if temperature < 0:\n", 
    "    print(\"L'eau est solide\")\n", 
    "elif temperature == 0:\n", 
    "    print(\"L'eau est en transition de phase solide-liquide\")\n", 
    "elif temperature < 100:\n", 
    "    print(\"L'eau est liquide\")\n", 
    "elif temperature == 100:\n", 
    "    print(\"L'eau est en transition de phase liquide-gaz\")\n", 
    "else:\n", 
    "    print(\"L'eau est un gaz\")"
   ], 
   "outputs": [], 
   "metadata": {}
  }, 
  {
   "source": [
    "Ci-haut, une seule des lignes `print` sera ex\u00e9cut\u00e9e: celle qui est sous la premi\u00e8re condition est qui satisfaite. Attention, ici comme les conditions ne sont pas mutuellement exclusives, l'ordre des conditions est important.\n", 
    "\n", 
    "## Syntaxe compacte d'une assignation conditionnelle\n", 
    "\n", 
    "Parfois, on veut assigner \u00e0 une variable une valeur qui d\u00e9pend d'une condition. Par exemple, on veut calculer le minimum de deux valeurs. On peut utiliser une condition pour faire cette assignation:"
   ], 
   "cell_type": "markdown", 
   "metadata": {}
  }, 
  {
   "execution_count": null, 
   "cell_type": "code", 
   "source": [
    "x,y = 10, 6\n", 
    "if x < y:"
   ], 
   "outputs": [
    {
     "execution_count": 1, 
     "output_type": "execute_result", 
     "data": {
      "text/plain": [
       "...     minimum = x\n", 
       "... else:\n", 
       "...     minimum = y\n", 
       "..."
      ]
     }, 
     "metadata": {}
    }
   ], 
   "metadata": {}
  }, 
  {
   "execution_count": null, 
   "cell_type": "code", 
   "source": [
    "minimum"
   ], 
   "outputs": [
    {
     "execution_count": 1, 
     "output_type": "execute_result", 
     "data": {
      "text/plain": [
       "6"
      ]
     }, 
     "metadata": {}
    }
   ], 
   "metadata": {}
  }, 
  {
   "source": [
    "Python offre une syntaxe abr\u00e9g\u00e9e (inspir\u00e9e du C) pour faire ceci:"
   ], 
   "cell_type": "markdown", 
   "metadata": {}
  }, 
  {
   "execution_count": null, 
   "cell_type": "code", 
   "source": [
    "minimum = x if x < y else y\n", 
    "minimum"
   ], 
   "outputs": [
    {
     "execution_count": 1, 
     "output_type": "execute_result", 
     "data": {
      "text/plain": [
       "6"
      ]
     }, 
     "metadata": {}
    }
   ], 
   "metadata": {}
  }
 ], 
 "metadata": {
  "kernelspec": {
   "display_name": "python2", 
   "name": "python2"
  }
 }
}