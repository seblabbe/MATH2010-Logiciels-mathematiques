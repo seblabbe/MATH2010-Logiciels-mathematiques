{
 "nbformat_minor": 0, 
 "nbformat": 4, 
 "cells": [
  {
   "source": [
    "$$\n", 
    "\\def\\CC{\\bf C}\n", 
    "\\def\\QQ{\\bf Q}\n", 
    "\\def\\RR{\\bf R}\n", 
    "\\def\\ZZ{\\bf Z}\n", 
    "\\def\\NN{\\bf N}\n", 
    "$$\n", 
    "# Introduction\n", 
    "\n", 
    "Ces notes de cours sont r\u00e9dig\u00e9s en fonction du nouveau cours de logiciels math\u00e9matiques du programme de bachelier en sciences math\u00e9matiques de l'Universit\u00e9 de Li\u00e8ge. Selon la [page du d\u00e9partement](http://www.math.ulg.ac.be/programme.html),\n", 
    "\n", 
    "> *le nouveau cours de logiciels math\u00e9matiques a pour but de familiariser les \u00e9tudiants \u00e0 l'informatique, outil omnipr\u00e9sent en sciences, en entreprises ou encore pour l'enseignement.*\n", 
    "\n", 
    "Donn\u00e9 en premi\u00e8re ann\u00e9e du bachelier et totalisant 10 heures d'enseignement th\u00e9orique et 20 heures de pratique, il s'agit avant tout de donner un aper\u00e7u des possibilit\u00e9s offertes par les logiciels pour faire des math\u00e9matiques.\n", 
    "\n", 
    "L'environnement de travail propos\u00e9 pour le cours de *Logiciel math\u00e9matiques* est l'environnement scientifique Python permettant d'atteindre les divers objectifs du cours. En effet, le langage Python est un langage *utilis\u00e9 dans les entreprises* et sa connaissance est un atout pour les chercheurs d'emploi. De plus, les [nombreuses librairies scientifiques](https://www.scipy.org/topical-software.html) de l'environnement Python sont des logiciels libres permettant aux futurs enseignants d'utiliser ces outils *pour l'enseignement dans les \u00e9coles secondaires* sans avoir \u00e0 payer des licences dispendieuses que les \u00e9coles n'ont pas les moyens de payer.\n", 
    "\n", 
    "Nous utiliserons l'interface [Jupyter](http://jupyter.org/) d\u00e9velopp\u00e9e par la communaut\u00e9 [IPython](http://ipython.org/). L'interface Jupyter supporte plus de 40 langages de programmation, incluant les langages populaires en sciences comme Python, R, Julia et Scala. Notons qu'il est possible de tester l'utilisation R ou Python \u00e0 l'adresse [try.jupyter.org](http://try.jupyter.org/). Nous nous concentrerons dans la premi\u00e8re partie du cours sur la librairie de calcul formel [SymPy](http://www.sympy.org/). Tout ces outils font partie du logiciel de math\u00e9matiques [Sage](http://www.sagemath.org) et nous couvrirons l'\u00e9quivalent des quatres premiers chapitres de l'excellente r\u00e9f\u00e9rence libre en fran\u00e7ais *Calcul math\u00e9matique avec Sage* \\[Sage\\]\\_.\n", 
    "\n", 
    "Jupyter et les outils que nous pr\u00e9senterons sont utilis\u00e9s dans les grandes compagnies (Google, Microsoft, IBM, Nasa) et universit\u00e9s (Berkeley, Northwestern University, George Washington University). Elles sont aussi utilis\u00e9es par les nouveaux m\u00e9dias tels que [BuzzFeed](http://www.buzzfeed.com/) qui a publi\u00e9 le 18 janvier 2016 une [analyse de 26000 matchs](http://data.blog.lemonde.fr/2016/01/18/comment-buzzfeed-et-la-bbc-ont-analyse-26-000-matchs-de-tennis/) de tennis professionnels pour identifier des joueurs soup\u00e7onn\u00e9s de matchs truqu\u00e9s. Ou encore par des chercheurs qui ont [\u00e9tudi\u00e9 et mod\u00e9lis\u00e9 le mouvement du pendule \u00e0 5 liens](http://www.moorepants.info/blog/npendulum.html).\n", 
    "\n", 
    "Dans le cours, nous aborderons aussi d'autres logiciels de math\u00e9matiques compl\u00e9mentaires tels que [Mathematica](https://www.wolfram.com/mathematica/) et [Geogebra](http://www.geogebra.org/). Finalement, dans la derni\u00e8re partie, nous ferons une introduction \u00e0 la programmation en Python.\n", 
    "\n", 
    "D'autre cours du m\u00eame type sont disponibles en ligne tel que *Scientific Computing with Python* \\[Johansson\\]\\_."
   ], 
   "cell_type": "markdown", 
   "metadata": {}
  }
 ], 
 "metadata": {
  "kernelspec": {
   "display_name": "python2", 
   "name": "python2"
  }
 }
}