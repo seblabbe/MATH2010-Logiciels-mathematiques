{
 "nbformat_minor": 0, 
 "nbformat": 4, 
 "cells": [
  {
   "source": [
    "$$\n", 
    "\\def\\CC{\\bf C}\n", 
    "\\def\\QQ{\\bf Q}\n", 
    "\\def\\RR{\\bf R}\n", 
    "\\def\\ZZ{\\bf Z}\n", 
    "\\def\\NN{\\bf N}\n", 
    "$$\n", 
    "# Autres structures de donn\u00e9es"
   ], 
   "cell_type": "markdown", 
   "metadata": {}
  }, 
  {
   "execution_count": null, 
   "cell_type": "code", 
   "source": [
    "from __future__ import division, print_function   # Python 3"
   ], 
   "outputs": [], 
   "metadata": {}
  }, 
  {
   "source": [
    "## Tuples (type `tuple`)\n", 
    "\n", 
    "En Python, les tuples (ou n-uplets) sont cr\u00e9\u00e9es avec l'utilisation des parenth\u00e8ses et on peut mettre n'importe quel objet dans un tuple:"
   ], 
   "cell_type": "markdown", 
   "metadata": {}
  }, 
  {
   "execution_count": null, 
   "cell_type": "code", 
   "source": [
    "t = (45, 'bonjour', 6.7, [3])\n", 
    "t"
   ], 
   "outputs": [
    {
     "execution_count": 1, 
     "output_type": "execute_result", 
     "data": {
      "text/plain": [
       "(45, 'bonjour', 6.7, [3])"
      ]
     }, 
     "metadata": {}
    }
   ], 
   "metadata": {}
  }, 
  {
   "source": [
    "Comme pour les listes et les cha\u00eenes de caract\u00e8res, on peut acc\u00e9der aux \u00e9l\u00e9ments avec les crochets et z\u00e9ro d\u00e9note la premi\u00e8re position:"
   ], 
   "cell_type": "markdown", 
   "metadata": {}
  }, 
  {
   "execution_count": null, 
   "cell_type": "code", 
   "source": [
    "t[0]"
   ], 
   "outputs": [
    {
     "execution_count": 1, 
     "output_type": "execute_result", 
     "data": {
      "text/plain": [
       "45"
      ]
     }, 
     "metadata": {}
    }
   ], 
   "metadata": {}
  }, 
  {
   "execution_count": null, 
   "cell_type": "code", 
   "source": [
    "t[1]"
   ], 
   "outputs": [
    {
     "execution_count": 1, 
     "output_type": "execute_result", 
     "data": {
      "text/plain": [
       "'bonjour'"
      ]
     }, 
     "metadata": {}
    }
   ], 
   "metadata": {}
  }, 
  {
   "source": [
    "On v\u00e9rifie le type de cet objet:"
   ], 
   "cell_type": "markdown", 
   "metadata": {}
  }, 
  {
   "execution_count": null, 
   "cell_type": "code", 
   "source": [
    "type(t)"
   ], 
   "outputs": [
    {
     "execution_count": 1, 
     "output_type": "execute_result", 
     "data": {
      "text/plain": [
       "<type 'tuple'>"
      ]
     }, 
     "metadata": {}
    }
   ], 
   "metadata": {}
  }, 
  {
   "source": [
    "Un tuple joue le m\u00eame r\u00f4le qu'une liste \u00e0 la diff\u00e9rence principale qu'on ne peut pas modifier un tuple. On ne peut donc pas ajouter ou supprimer des objets d'un tuple.\n", 
    "\n", 
    "La fonction `tuple` permet de transformer un objet en tuple pourvu qu'il soit it\u00e9rable:"
   ], 
   "cell_type": "markdown", 
   "metadata": {}
  }, 
  {
   "execution_count": null, 
   "cell_type": "code", 
   "source": [
    "tuple('bonjour')"
   ], 
   "outputs": [
    {
     "execution_count": 1, 
     "output_type": "execute_result", 
     "data": {
      "text/plain": [
       "('b', 'o', 'n', 'j', 'o', 'u', 'r')"
      ]
     }, 
     "metadata": {}
    }
   ], 
   "metadata": {}
  }, 
  {
   "execution_count": null, 
   "cell_type": "code", 
   "source": [
    "tuple([1,2,3])"
   ], 
   "outputs": [
    {
     "execution_count": 1, 
     "output_type": "execute_result", 
     "data": {
      "text/plain": [
       "(1, 2, 3)"
      ]
     }, 
     "metadata": {}
    }
   ], 
   "metadata": {}
  }, 
  {
   "source": [
    "## Emballage et d\u00e9ballage d'un tuple\n", 
    "\n", 
    "Les tuples peuvent \u00eatre cr\u00e9\u00e9s comme emballage de valeurs:"
   ], 
   "cell_type": "markdown", 
   "metadata": {}
  }, 
  {
   "execution_count": null, 
   "cell_type": "code", 
   "source": [
    "b = ('Bob', 23, 'math')      # emballage d'un tuple\n", 
    "b"
   ], 
   "outputs": [
    {
     "execution_count": 1, 
     "output_type": "execute_result", 
     "data": {
      "text/plain": [
       "(u'Bob', 23, u'math')"
      ]
     }, 
     "metadata": {}
    }
   ], 
   "metadata": {}
  }, 
  {
   "source": [
    "Mais, il peuvent aussi \u00eatre d\u00e9ball\u00e9s directement en faisant comme suit:"
   ], 
   "cell_type": "markdown", 
   "metadata": {}
  }, 
  {
   "execution_count": null, 
   "cell_type": "code", 
   "source": [
    "(nom, age, etude) = b        # d\u00e9ballage d'un tuple\n", 
    "nom"
   ], 
   "outputs": [
    {
     "execution_count": 1, 
     "output_type": "execute_result", 
     "data": {
      "text/plain": [
       "u'Bob'"
      ]
     }, 
     "metadata": {}
    }
   ], 
   "metadata": {}
  }, 
  {
   "execution_count": null, 
   "cell_type": "code", 
   "source": [
    "age"
   ], 
   "outputs": [
    {
     "execution_count": 1, 
     "output_type": "execute_result", 
     "data": {
      "text/plain": [
       "23"
      ]
     }, 
     "metadata": {}
    }
   ], 
   "metadata": {}
  }, 
  {
   "execution_count": null, 
   "cell_type": "code", 
   "source": [
    "etude"
   ], 
   "outputs": [
    {
     "execution_count": 1, 
     "output_type": "execute_result", 
     "data": {
      "text/plain": [
       "u'math'"
      ]
     }, 
     "metadata": {}
    }
   ], 
   "metadata": {}
  }, 
  {
   "source": [
    "## Dictionnaires (type `dict`)\n", 
    "\n", 
    "Les listes et tuples ont cela de contraignants que les positions sont des nombres de 0 \u00e0 n-1 o\u00f9 n est la longueur de la liste. Parfois, il est pratique que les positions prennent d'autres valeurs ou d'autres types.\n", 
    "\n", 
    "En Python, les dictionnaire sont cr\u00e9\u00e9es avec l'utilisation des accolades avec la syntaxe `{cle1:valeur1, cle2:valeur2, cle3:valeur3}`. Par exemple:"
   ], 
   "cell_type": "markdown", 
   "metadata": {}
  }, 
  {
   "execution_count": null, 
   "cell_type": "code", 
   "source": [
    "d = {'namur':813248, 'liege':441432, 'anvers':978756}\n", 
    "d"
   ], 
   "outputs": [
    {
     "execution_count": 1, 
     "output_type": "execute_result", 
     "data": {
      "text/plain": [
       "{'liege': 441432, 'namur': 813248, 'anvers': 978756}"
      ]
     }, 
     "metadata": {}
    }
   ], 
   "metadata": {}
  }, 
  {
   "source": [
    "est un dictionnaire qui associe des noms de villes avec des nombres qui peuvent repr\u00e9senter le nombre d'habitants:"
   ], 
   "cell_type": "markdown", 
   "metadata": {}
  }, 
  {
   "execution_count": null, 
   "cell_type": "code", 
   "source": [
    "type(d)"
   ], 
   "outputs": [
    {
     "execution_count": 1, 
     "output_type": "execute_result", 
     "data": {
      "text/plain": [
       "<type 'dict'>"
      ]
     }, 
     "metadata": {}
    }
   ], 
   "metadata": {}
  }, 
  {
   "source": [
    "On peut acc\u00e9der \u00e0 la valeur associ\u00e9e \u00e0 une cl\u00e9 en utilisant les crochets:"
   ], 
   "cell_type": "markdown", 
   "metadata": {}
  }, 
  {
   "execution_count": null, 
   "cell_type": "code", 
   "source": [
    "d['liege']"
   ], 
   "outputs": [
    {
     "execution_count": 1, 
     "output_type": "execute_result", 
     "data": {
      "text/plain": [
       "441432"
      ]
     }, 
     "metadata": {}
    }
   ], 
   "metadata": {}
  }, 
  {
   "source": [
    "Tenter d'acc\u00e9der \u00e0 une cl\u00e9e inexistante retourne une erreur:"
   ], 
   "cell_type": "markdown", 
   "metadata": {}
  }, 
  {
   "execution_count": null, 
   "cell_type": "code", 
   "source": [
    "d['bruxelles']"
   ], 
   "outputs": [
    {
     "execution_count": 1, 
     "output_type": "execute_result", 
     "data": {
      "text/plain": [
       "Traceback (most recent call last):\n", 
       "...\n", 
       "KeyError: 'bruxelles'"
      ]
     }, 
     "metadata": {}
    }
   ], 
   "metadata": {}
  }, 
  {
   "source": [
    "Toutefois, on peut ajouter les donn\u00e9es pour la ville de Bruxelles en faisant:"
   ], 
   "cell_type": "markdown", 
   "metadata": {}
  }, 
  {
   "execution_count": null, 
   "cell_type": "code", 
   "source": [
    "d['bruxelles'] = 5000000\n", 
    "d"
   ], 
   "outputs": [
    {
     "execution_count": 1, 
     "output_type": "execute_result", 
     "data": {
      "text/plain": [
       "{'bruxelles': 5000000, 'liege': 441432, 'namur': 813248, 'anvers': 978756}"
      ]
     }, 
     "metadata": {}
    }
   ], 
   "metadata": {}
  }, 
  {
   "source": [
    "La fonction `len` retourne la taille du dictionnaire:"
   ], 
   "cell_type": "markdown", 
   "metadata": {}
  }, 
  {
   "execution_count": null, 
   "cell_type": "code", 
   "source": [
    "len(d)"
   ], 
   "outputs": [
    {
     "execution_count": 1, 
     "output_type": "execute_result", 
     "data": {
      "text/plain": [
       "4"
      ]
     }, 
     "metadata": {}
    }
   ], 
   "metadata": {}
  }, 
  {
   "source": [
    "Les m\u00e9thodes `.keys()` et `.values()` retourne respectivement les cl\u00e9s et les valeurs d'un dictionnaire sous forme de liste:"
   ], 
   "cell_type": "markdown", 
   "metadata": {}
  }, 
  {
   "execution_count": null, 
   "cell_type": "code", 
   "source": [
    "d.keys()"
   ], 
   "outputs": [
    {
     "execution_count": 1, 
     "output_type": "execute_result", 
     "data": {
      "text/plain": [
       "['bruxelles', 'liege', 'namur', 'anvers']"
      ]
     }, 
     "metadata": {}
    }
   ], 
   "metadata": {}
  }, 
  {
   "execution_count": null, 
   "cell_type": "code", 
   "source": [
    "d.values()"
   ], 
   "outputs": [
    {
     "execution_count": 1, 
     "output_type": "execute_result", 
     "data": {
      "text/plain": [
       "[5000000, 441432, 813248, 978756]"
      ]
     }, 
     "metadata": {}
    }
   ], 
   "metadata": {}
  }, 
  {
   "source": [
    "Finalement, la m\u00e9thode `.items()` retourne la liste des paires cl\u00e9-valeur d'un dictionnaire:"
   ], 
   "cell_type": "markdown", 
   "metadata": {}
  }, 
  {
   "execution_count": null, 
   "cell_type": "code", 
   "source": [
    "d.items()"
   ], 
   "outputs": [
    {
     "execution_count": 1, 
     "output_type": "execute_result", 
     "data": {
      "text/plain": [
       "[('bruxelles', 5000000), ('liege', 441432), ('namur', 813248), ('anvers', 978756)]"
      ]
     }, 
     "metadata": {}
    }
   ], 
   "metadata": {}
  }, 
  {
   "source": [
    "En SymPy, on se rappelle que certaines fonctions retournent des dictionnaires telles que la fonction `factorint` :"
   ], 
   "cell_type": "markdown", 
   "metadata": {}
  }, 
  {
   "execution_count": null, 
   "cell_type": "code", 
   "source": [
    "from sympy import factorint\n", 
    "factorint(240)"
   ], 
   "outputs": [
    {
     "execution_count": 1, 
     "output_type": "execute_result", 
     "data": {
      "text/plain": [
       "{2: 4, 3: 1, 5: 1}"
      ]
     }, 
     "metadata": {}
    }
   ], 
   "metadata": {}
  }, 
  {
   "source": [
    "Les cl\u00e9s d'un dictionnaire doivent \u00eatre des objets non modifiables (techniquement, des objets qui d\u00e9finissent une fonction de hachage `hash`). Comme les listes sont modifiables, une liste ne peut pas jouer le r\u00f4le d'une cl\u00e9 d'un dictionnaire. Si on le fait, on obtient l'erreur suivante:"
   ], 
   "cell_type": "markdown", 
   "metadata": {}
  }, 
  {
   "execution_count": null, 
   "cell_type": "code", 
   "source": [
    "d = dict()\n", 
    "cle = [2,3,4]\n", 
    "d[cle] = 'valeur'"
   ], 
   "outputs": [
    {
     "execution_count": 1, 
     "output_type": "execute_result", 
     "data": {
      "text/plain": [
       "Traceback (most recent call last):\n", 
       "...\n", 
       "TypeError: unhashable type: 'list'"
      ]
     }, 
     "metadata": {}
    }
   ], 
   "metadata": {}
  }, 
  {
   "source": [
    "Comme les listes sont modifiables, elle ne sont pas hachable d'o\u00f9 l'erreur obtenue. Par contre, on peut utiliser un tuple comme cl\u00e9 d'un dictionnaire:"
   ], 
   "cell_type": "markdown", 
   "metadata": {}
  }, 
  {
   "execution_count": null, 
   "cell_type": "code", 
   "source": [
    "cle = (2,3,4)\n", 
    "d[cle] = 'valeur'\n", 
    "d"
   ], 
   "outputs": [
    {
     "execution_count": 1, 
     "output_type": "execute_result", 
     "data": {
      "text/plain": [
       "{(2, 3, 4): 'valeur'}"
      ]
     }, 
     "metadata": {}
    }
   ], 
   "metadata": {}
  }, 
  {
   "source": [
    "## Ensembles (type `set`)\n", 
    "\n", 
    "Les listes peuvent contenir plusieurs fois le m\u00eame objet:"
   ], 
   "cell_type": "markdown", 
   "metadata": {}
  }, 
  {
   "execution_count": null, 
   "cell_type": "code", 
   "source": [
    "[1,2,2,3,3,3,4,4,4,4]"
   ], 
   "outputs": [
    {
     "execution_count": 1, 
     "output_type": "execute_result", 
     "data": {
      "text/plain": [
       "[1, 2, 2, 3, 3, 3, 4, 4, 4, 4]"
      ]
     }, 
     "metadata": {}
    }
   ], 
   "metadata": {}
  }, 
  {
   "source": [
    "En Python, le type `set` permet de cr\u00e9er un ensemble au sens math\u00e9matique o\u00f9 chaque \u00e9l\u00e9ment appara\u00eet au plus une fois:"
   ], 
   "cell_type": "markdown", 
   "metadata": {}
  }, 
  {
   "execution_count": null, 
   "cell_type": "code", 
   "source": [
    "set('gauffredeliege')"
   ], 
   "outputs": [
    {
     "execution_count": 1, 
     "output_type": "execute_result", 
     "data": {
      "text/plain": [
       "set(['a', 'e', 'd', 'g', 'f', 'i', 'l', 'r', 'u'])"
      ]
     }, 
     "metadata": {}
    }
   ], 
   "metadata": {}
  }, 
  {
   "execution_count": null, 
   "cell_type": "code", 
   "source": [
    "set([1,2,2,3,3,3,4,4,4,4])"
   ], 
   "outputs": [
    {
     "execution_count": 1, 
     "output_type": "execute_result", 
     "data": {
      "text/plain": [
       "set([1, 2, 3, 4])"
      ]
     }, 
     "metadata": {}
    }
   ], 
   "metadata": {}
  }, 
  {
   "source": [
    "La m\u00e9thode `.add()` permet d'ajouter un \u00e9l\u00e9ment \u00e0 l'ensemble:"
   ], 
   "cell_type": "markdown", 
   "metadata": {}
  }, 
  {
   "execution_count": null, 
   "cell_type": "code", 
   "source": [
    "s = set([1,2,3,4])\n", 
    "s.add('bonjour')\n", 
    "s"
   ], 
   "outputs": [
    {
     "execution_count": 1, 
     "output_type": "execute_result", 
     "data": {
      "text/plain": [
       "set([1, 2, 3, 4, 'bonjour'])"
      ]
     }, 
     "metadata": {}
    }
   ], 
   "metadata": {}
  }, 
  {
   "source": [
    "Comme pour les cl\u00e9s d'un dictionnaire, les \u00e9l\u00e9ments d'un ensemble doivent \u00eatre hachables (non modifiables). Par exemple, on ne peut pas ajouter une liste \u00e0 un ensemble, mais on peut ajouter un tuple:"
   ], 
   "cell_type": "markdown", 
   "metadata": {}
  }, 
  {
   "execution_count": null, 
   "cell_type": "code", 
   "source": [
    "s.add([1,2,3])"
   ], 
   "outputs": [
    {
     "execution_count": 1, 
     "output_type": "execute_result", 
     "data": {
      "text/plain": [
       "Traceback (most recent call last):\n", 
       "...\n", 
       "TypeError: unhashable type: 'list'"
      ]
     }, 
     "metadata": {}
    }
   ], 
   "metadata": {}
  }, 
  {
   "execution_count": null, 
   "cell_type": "code", 
   "source": [
    "s.add((1,2,3))\n", 
    "s"
   ], 
   "outputs": [
    {
     "execution_count": 1, 
     "output_type": "execute_result", 
     "data": {
      "text/plain": [
       "set([1, 2, 3, 4, (1, 2, 3), u'bonjour'])"
      ]
     }, 
     "metadata": {}
    }
   ], 
   "metadata": {}
  }
 ], 
 "metadata": {
  "kernelspec": {
   "display_name": "python2", 
   "name": "python2"
  }
 }
}