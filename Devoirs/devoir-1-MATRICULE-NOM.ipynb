{
 "cells": [
  {
   "cell_type": "markdown",
   "metadata": {
    "collapsed": true
   },
   "source": [
    "# Devoir 1\n",
    "\n",
    "En utilisant SymPy ou Mathematica mais un seul des deux, répondre aux questions suivantes.\n",
    "\n",
    "Écrire vos réponses dans le fichier `Devoir-1-<MATRICULE>-<NOM>.ipynb` ou `Devoir-1-<MATRICULE>-<NOM>.nb` selon que vous utilisiez SymPy ou Mathematica téléchargeable sur la page web du cours. Inclure la démarche, les réponses aux questions et les justifications. Envoyer votre fichier avant le **jeudi 24 mars à 23h59** par courriel à l'adresse `slabbe@ulg.ac.be` en remplaçant `<MATRICULE>` par votre numéro de matricule et `<NOM>` par votre nom.\n",
    "\n",
    "Pour écrire du texte entre les cellules et justifier une réponse, utiliser\n",
    "`Format > Style > Text` en Mathematica, et `Cell > Cell Type >\n",
    "Markdown` en SymPy et Jupyter.\n",
    "\n",
    "Le plagiat sera détecté et entraînera une note de zéro pour les personnes\n",
    "impliquées."
   ]
  },
  {
   "cell_type": "markdown",
   "metadata": {},
   "source": [
    "## Question 1\n",
    "Le [Théorème de\n",
    "Gauss--Wantzel](https://fr.wikipedia.org/wiki/Théorème_de_Gauss-Wantzel) dit qu'un polygone régulier à $n$ côtés est\n",
    "constructible avec la règle et le compas si et seulement si $n$ est le produit\n",
    "d'une puissance de $2$ et de nombres premiers de Fermat distincts dont les seuls\n",
    "connus sont 3, 5, 17, 257 et 65537."
   ]
  },
  {
   "cell_type": "markdown",
   "metadata": {},
   "source": [
    "Est-ce qu'un polygone régulier à 6 côtés est constructible?"
   ]
  },
  {
   "cell_type": "code",
   "execution_count": null,
   "metadata": {
    "collapsed": true
   },
   "outputs": [],
   "source": []
  },
  {
   "cell_type": "markdown",
   "metadata": {},
   "source": [
    "Est-ce qu'un polygone régulier à 24480 côtés est constructible?"
   ]
  },
  {
   "cell_type": "code",
   "execution_count": null,
   "metadata": {
    "collapsed": true
   },
   "outputs": [],
   "source": []
  },
  {
   "cell_type": "markdown",
   "metadata": {
    "collapsed": true
   },
   "source": [
    "Est-ce qu'un polygone régulier à 88305875025920 côtés est constructible?"
   ]
  },
  {
   "cell_type": "code",
   "execution_count": null,
   "metadata": {
    "collapsed": true
   },
   "outputs": [],
   "source": []
  },
  {
   "cell_type": "markdown",
   "metadata": {
    "collapsed": false
   },
   "source": [
    "## Question 2\n",
    "Résoudre l'équation $x^3-3x^2-5=0$ et donner une valeur numérique approchée des\n",
    "solutions.\n"
   ]
  },
  {
   "cell_type": "code",
   "execution_count": null,
   "metadata": {
    "collapsed": true
   },
   "outputs": [],
   "source": []
  },
  {
   "cell_type": "markdown",
   "metadata": {
    "collapsed": true
   },
   "source": [
    "## Question 3\n",
    "Tracer la [surface de Dini](https://en.wikipedia.org/wiki/Dini's_surface)\n",
    "dont les équations paramétriques sont:\n",
    "\\begin{align*}\n",
    "    x&=a\\cos\\left(u\\right)\\sin\\left(v\\right)\\\\\n",
    "    y&=a\\sin\\left(u\\right)\\sin\\left(v\\right)\\\\\n",
    "    z&=a\\left(\\cos\\left(v\\right)+\\ln\\left(\\tan\\left(\\frac{v}{2}\\right)\\right)\\right)+bu \n",
    "\\end{align*}\n",
    "pour $a=1$, $b=1$ sur les intervalles $0\\leq u \\leq 5\\pi$ et $0.01 \\leq v\\leq\n",
    "1$.\n"
   ]
  },
  {
   "cell_type": "code",
   "execution_count": null,
   "metadata": {
    "collapsed": true
   },
   "outputs": [],
   "source": []
  },
  {
   "cell_type": "markdown",
   "metadata": {},
   "source": [
    "## Question 4\n",
    "Soit $p(x)=- x^{4} + 28 x^{3} - 221 x^{2} + 350 x + 600$ un polynôme. Trouver\n",
    "l'ensemble des valeurs de $x$ telles que $p(x)$ atteint un optimum local et dire s'il s'agit d'un minimum ou un maximum."
   ]
  },
  {
   "cell_type": "code",
   "execution_count": null,
   "metadata": {
    "collapsed": true
   },
   "outputs": [],
   "source": []
  },
  {
   "cell_type": "markdown",
   "metadata": {},
   "source": [
    "Calculer l'aire de la région $A=\\{(x,y):0\\leq y\\leq p(x)\\}$ bornée supérieurement par le polynôme $p(x)$ et\n",
    "inférieurement par l'abscisse."
   ]
  },
  {
   "cell_type": "code",
   "execution_count": null,
   "metadata": {
    "collapsed": true
   },
   "outputs": [],
   "source": []
  },
  {
   "cell_type": "markdown",
   "metadata": {},
   "source": [
    "## Question 5\n",
    "On considère la fonction $f(x)=x^{x\\over 1-x}$ pour tout réel $x>0$. Donner le\n",
    "domaine de définition de $f$."
   ]
  },
  {
   "cell_type": "code",
   "execution_count": null,
   "metadata": {
    "collapsed": true
   },
   "outputs": [],
   "source": []
  },
  {
   "cell_type": "markdown",
   "metadata": {},
   "source": [
    "Calculer les limites de la fonction $f$ aux bornes des intervalles qui composent le domaine de $f$."
   ]
  },
  {
   "cell_type": "code",
   "execution_count": null,
   "metadata": {
    "collapsed": true
   },
   "outputs": [],
   "source": []
  },
  {
   "cell_type": "markdown",
   "metadata": {},
   "source": [
    "Expliquez comment prolonger $f$ par continuité aux points $x=0$ et $x=1$."
   ]
  },
  {
   "cell_type": "code",
   "execution_count": null,
   "metadata": {
    "collapsed": true
   },
   "outputs": [],
   "source": []
  },
  {
   "cell_type": "markdown",
   "metadata": {},
   "source": [
    "## Question 6\n",
    "On considère les vecteurs\n",
    "$v_1=(-8, 1, -10, 1, 6)$,\n",
    "$v_2=(-6, -10, 2, 10, -3)$,\n",
    "$v_3=(-2, 8, 10, 1, 10)$,\n",
    "$v_4=(-14, -9, -8, 11, 3)$,\n",
    "$v_5=(-2, -3, 5, -8, -6)$.\n",
    "Donner une base du sous espace vectoriel engendré par $v_1$, $v_2$, $v_3$, $v_4$\n",
    "et $v_5$."
   ]
  },
  {
   "cell_type": "code",
   "execution_count": null,
   "metadata": {
    "collapsed": true
   },
   "outputs": [],
   "source": []
  },
  {
   "cell_type": "markdown",
   "metadata": {},
   "source": [
    "Le vecteur $w=(0, -6, -1, -8, 10)$ est-il dans ce sous-espace vectoriel?"
   ]
  },
  {
   "cell_type": "code",
   "execution_count": null,
   "metadata": {
    "collapsed": true
   },
   "outputs": [],
   "source": []
  },
  {
   "cell_type": "markdown",
   "metadata": {},
   "source": [
    "Si oui, l'exprimer  comme combinaison linéaire des vecteurs de la base."
   ]
  },
  {
   "cell_type": "code",
   "execution_count": null,
   "metadata": {
    "collapsed": true
   },
   "outputs": [],
   "source": []
  }
 ],
 "metadata": {
  "kernelspec": {
   "display_name": "Python 2",
   "language": "python",
   "name": "python2"
  },
  "language_info": {
   "codemirror_mode": {
    "name": "ipython",
    "version": 2
   },
   "file_extension": ".py",
   "mimetype": "text/x-python",
   "name": "python",
   "nbconvert_exporter": "python",
   "pygments_lexer": "ipython2",
   "version": "2.7.10"
  }
 },
 "nbformat": 4,
 "nbformat_minor": 0
}
