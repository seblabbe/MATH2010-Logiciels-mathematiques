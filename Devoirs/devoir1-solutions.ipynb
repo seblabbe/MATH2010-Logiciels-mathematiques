{
 "cells": [
  {
   "cell_type": "markdown",
   "metadata": {
    "collapsed": true
   },
   "source": [
    "# Devoir 1\n",
    "\n",
    "En utilisant SymPy ou Mathematica mais un seul des deux, répondre aux questions suivantes.\n",
    "\n",
    "Écrire vos réponses dans le fichier `Devoir-1-<MATRICULE>-<NOM>.ipynb` ou `Devoir-1-<MATRICULE>-<NOM>.nb` selon que vous utilisiez SymPy ou Mathematica téléchargeable sur la page web du cours. Inclure la démarche, les réponses aux questions et les justifications. Envoyer votre fichier avant le **jeudi 24 mars à 23h59** par courriel à l'adresse `slabbe@ulg.ac.be` en remplaçant `<MATRICULE>` par votre numéro de matricule et `<NOM>` par votre nom.\n",
    "\n",
    "Pour écrire du texte entre les cellules et justifier une réponse, utiliser\n",
    "`Format > Style > Text` en Mathematica, et `Cell > Cell Type >\n",
    "Markdown` en SymPy et Jupyter.\n",
    "\n",
    "Le plagiat sera détecté et entraînera une note de zéro pour les personnes\n",
    "impliquées."
   ]
  },
  {
   "cell_type": "markdown",
   "metadata": {},
   "source": [
    "## Question 1\n",
    "Le [Théorème de\n",
    "Gauss--Wantzel](https://fr.wikipedia.org/wiki/Théorème_de_Gauss-Wantzel) dit qu'un polygone régulier à $n$ côtés est\n",
    "constructible avec la règle et le compas si et seulement si $n$ est le produit\n",
    "d'une puissance de $2$ et de nombres premiers de Fermat distincts dont les seuls\n",
    "connus sont 3, 5, 17, 257 et 65537."
   ]
  },
  {
   "cell_type": "markdown",
   "metadata": {},
   "source": [
    "Est-ce qu'un polygone régulier à 6 côtés est constructible?"
   ]
  },
  {
   "cell_type": "code",
   "execution_count": 3,
   "metadata": {
    "collapsed": false
   },
   "outputs": [
    {
     "data": {
      "text/plain": [
       "{2: 1, 3: 1}"
      ]
     },
     "execution_count": 3,
     "metadata": {},
     "output_type": "execute_result"
    }
   ],
   "source": [
    "from sympy import factorint\n",
    "factorint(6)"
   ]
  },
  {
   "cell_type": "markdown",
   "metadata": {},
   "source": [
    "**Réponse:** OUI"
   ]
  },
  {
   "cell_type": "markdown",
   "metadata": {},
   "source": [
    "Est-ce qu'un polygone régulier à 24480 côtés est constructible?"
   ]
  },
  {
   "cell_type": "code",
   "execution_count": 4,
   "metadata": {
    "collapsed": false
   },
   "outputs": [
    {
     "data": {
      "text/plain": [
       "{2: 5, 3: 2, 5: 1, 17: 1}"
      ]
     },
     "execution_count": 4,
     "metadata": {},
     "output_type": "execute_result"
    }
   ],
   "source": [
    "factorint(24480)"
   ]
  },
  {
   "cell_type": "markdown",
   "metadata": {},
   "source": [
    "**Réponse:** NON"
   ]
  },
  {
   "cell_type": "markdown",
   "metadata": {},
   "source": [
    "Est-ce qu'un polygone régulier à 88305875025920 côtés est constructible?"
   ]
  },
  {
   "cell_type": "code",
   "execution_count": 5,
   "metadata": {
    "collapsed": false
   },
   "outputs": [
    {
     "data": {
      "text/plain": [
       "{2: 20, 5: 1, 257: 1, 65537: 1}"
      ]
     },
     "execution_count": 5,
     "metadata": {},
     "output_type": "execute_result"
    }
   ],
   "source": [
    "factorint(88305875025920)"
   ]
  },
  {
   "cell_type": "markdown",
   "metadata": {},
   "source": [
    "**Réponse:** OUI"
   ]
  },
  {
   "cell_type": "markdown",
   "metadata": {
    "collapsed": false
   },
   "source": [
    "## Question 2\n",
    "Résoudre l'équation $x^3-3x^2-5=0$ et donner une valeur numérique approchée des\n",
    "solutions.\n"
   ]
  },
  {
   "cell_type": "code",
   "execution_count": 4,
   "metadata": {
    "collapsed": true
   },
   "outputs": [],
   "source": [
    "from sympy import init_printing\n",
    "init_printing(use_latex='mathjax')"
   ]
  },
  {
   "cell_type": "code",
   "execution_count": 5,
   "metadata": {
    "collapsed": false
   },
   "outputs": [
    {
     "data": {
      "text/latex": [
       "$$\\left [ 1 + \\left(- \\frac{1}{2} - \\frac{\\sqrt{3} i}{2}\\right) \\sqrt[3]{\\frac{3 \\sqrt{5}}{2} + \\frac{7}{2}} + \\frac{1}{\\left(- \\frac{1}{2} - \\frac{\\sqrt{3} i}{2}\\right) \\sqrt[3]{\\frac{3 \\sqrt{5}}{2} + \\frac{7}{2}}}, \\quad 1 + \\frac{1}{\\left(- \\frac{1}{2} + \\frac{\\sqrt{3} i}{2}\\right) \\sqrt[3]{\\frac{3 \\sqrt{5}}{2} + \\frac{7}{2}}} + \\left(- \\frac{1}{2} + \\frac{\\sqrt{3} i}{2}\\right) \\sqrt[3]{\\frac{3 \\sqrt{5}}{2} + \\frac{7}{2}}, \\quad \\frac{1}{\\sqrt[3]{\\frac{3 \\sqrt{5}}{2} + \\frac{7}{2}}} + 1 + \\sqrt[3]{\\frac{3 \\sqrt{5}}{2} + \\frac{7}{2}}\\right ]$$"
      ],
      "text/plain": [
       "⎡                     __________                                              \n",
       "⎢    ⎛  1   √3⋅ⅈ⎞    ╱ 3⋅√5   7                 1                             \n",
       "⎢1 + ⎜- ─ - ────⎟⋅3 ╱  ──── + ─  + ───────────────────────────, 1 + ──────────\n",
       "⎢    ⎝  2    2  ⎠ ╲╱    2     2                     __________                \n",
       "⎢                                  ⎛  1   √3⋅ⅈ⎞    ╱ 3⋅√5   7       ⎛  1   √3⋅\n",
       "⎢                                  ⎜- ─ - ────⎟⋅3 ╱  ──── + ─       ⎜- ─ + ───\n",
       "⎣                                  ⎝  2    2  ⎠ ╲╱    2     2       ⎝  2    2 \n",
       "\n",
       "                                     __________                           ____\n",
       "   1                ⎛  1   √3⋅ⅈ⎞    ╱ 3⋅√5   7         1                 ╱ 3⋅√\n",
       "───────────────── + ⎜- ─ + ────⎟⋅3 ╱  ──── + ─ , ────────────── + 1 + 3 ╱  ───\n",
       "       __________   ⎝  2    2  ⎠ ╲╱    2     2       __________       ╲╱    2 \n",
       "ⅈ⎞    ╱ 3⋅√5   7                                    ╱ 3⋅√5   7                \n",
       "─⎟⋅3 ╱  ──── + ─                                 3 ╱  ──── + ─                \n",
       " ⎠ ╲╱    2     2                                 ╲╱    2     2                \n",
       "\n",
       "______⎤\n",
       "5   7 ⎥\n",
       "─ + ─ ⎥\n",
       "    2 ⎥\n",
       "      ⎥\n",
       "      ⎥\n",
       "      ⎦"
      ]
     },
     "execution_count": 5,
     "metadata": {},
     "output_type": "execute_result"
    }
   ],
   "source": [
    "from sympy import solve,N\n",
    "from sympy.abc import x\n",
    "racines = solve(x**3-3*x**2-5)\n",
    "racines"
   ]
  },
  {
   "cell_type": "code",
   "execution_count": 9,
   "metadata": {
    "collapsed": false
   },
   "outputs": [
    {
     "name": "stdout",
     "output_type": "stream",
     "text": [
      "-0.212994378680811 - 1.18914510810655*I\n",
      "-0.212994378680811 + 1.18914510810655*I\n",
      "3.42598875736162\n"
     ]
    }
   ],
   "source": [
    "for racine in racines:\n",
    "    print racine.n()"
   ]
  },
  {
   "cell_type": "markdown",
   "metadata": {
    "collapsed": true
   },
   "source": [
    "## Question 3\n",
    "Tracer la [surface de Dini](https://en.wikipedia.org/wiki/Dini's_surface)\n",
    "dont les équations paramétriques sont:\n",
    "\\begin{align*}\n",
    "    x&=a\\cos\\left(u\\right)\\sin\\left(v\\right)\\\\\n",
    "    y&=a\\sin\\left(u\\right)\\sin\\left(v\\right)\\\\\n",
    "    z&=a\\left(\\cos\\left(v\\right)+\\ln\\left(\\tan\\left(\\frac{v}{2}\\right)\\right)\\right)+bu \n",
    "\\end{align*}\n",
    "pour $a=1$, $b=1$ sur les intervalles $0\\leq u \\leq 5\\pi$ et $0.01 \\leq v\\leq\n",
    "1$.\n"
   ]
  },
  {
   "cell_type": "code",
   "execution_count": 7,
   "metadata": {
    "collapsed": false
   },
   "outputs": [
    {
     "data": {
      "image/png": "[encoded data removed]",
      "text/plain": [
       "<matplotlib.figure.Figure at 0x7f8b9a3ea950>"
      ]
     },
     "metadata": {},
     "output_type": "display_data"
    },
    {
     "data": {
      "text/plain": [
       "<sympy.plotting.plot.Plot at 0x7f8b9a92b790>"
      ]
     },
     "execution_count": 7,
     "metadata": {},
     "output_type": "execute_result"
    }
   ],
   "source": [
    "%matplotlib inline\n",
    "from sympy.plotting import plot3d_parametric_surface\n",
    "from sympy import cos,sin,tan,log,pi\n",
    "from sympy.abc import u,v\n",
    "plot3d_parametric_surface(cos(u)*sin(v), sin(u)*sin(v),cos(v)+log(tan(v/2))+u, (u,0,5*pi), (v,0.01,1))"
   ]
  },
  {
   "cell_type": "markdown",
   "metadata": {},
   "source": [
    "## Question 4\n",
    "Soit $p(x)=- x^{4} + 28 x^{3} - 221 x^{2} + 350 x + 600$ un polynôme. Trouver\n",
    "l'ensemble des valeurs de $x$ telles que $p(x)$ atteint un optimum local et dire s'il s'agit d'un minimum ou un maximum."
   ]
  },
  {
   "cell_type": "code",
   "execution_count": 10,
   "metadata": {
    "collapsed": false
   },
   "outputs": [
    {
     "data": {
      "text/latex": [
       "$$- x^{4} + 28 x^{3} - 221 x^{2} + 350 x + 600$$"
      ],
      "text/plain": [
       "   4       3        2              \n",
       "- x  + 28⋅x  - 221⋅x  + 350⋅x + 600"
      ]
     },
     "execution_count": 10,
     "metadata": {},
     "output_type": "execute_result"
    }
   ],
   "source": [
    "from sympy.abc import x\n",
    "p = -x**4+28*x**3-221*x**2+350*x+600\n",
    "p"
   ]
  },
  {
   "cell_type": "code",
   "execution_count": 41,
   "metadata": {
    "collapsed": false
   },
   "outputs": [
    {
     "data": {
      "text/latex": [
       "$$\\left [ 7, \\quad - \\frac{\\sqrt{146}}{2} + 7, \\quad \\frac{\\sqrt{146}}{2} + 7\\right ]$$"
      ],
      "text/plain": [
       "⎡     √146      √146    ⎤\n",
       "⎢7, - ──── + 7, ──── + 7⎥\n",
       "⎣      2         2      ⎦"
      ]
     },
     "execution_count": 41,
     "metadata": {},
     "output_type": "execute_result"
    }
   ],
   "source": [
    "from sympy import diff,solve\n",
    "p_optimum = solve(diff(p, x), x)\n",
    "p_optimum"
   ]
  },
  {
   "cell_type": "code",
   "execution_count": 42,
   "metadata": {
    "collapsed": false
   },
   "outputs": [
    {
     "data": {
      "text/latex": [
       "$$\\left [ 7.0, \\quad 0.958477013202714, \\quad 13.0415229867973\\right ]$$"
      ],
      "text/plain": [
       "[7.0, 0.958477013202714, 13.0415229867973]"
      ]
     },
     "execution_count": 42,
     "metadata": {},
     "output_type": "execute_result"
    }
   ],
   "source": [
    "from sympy import N\n",
    "map(N, p_optimum)"
   ]
  },
  {
   "cell_type": "code",
   "execution_count": 72,
   "metadata": {
    "collapsed": false
   },
   "outputs": [
    {
     "data": {
      "text/latex": [
       "$$\\left [ \\left ( - \\frac{\\sqrt{146}}{2} + 7, \\quad -292.0\\right ), \\quad \\left ( 7, \\quad 146.0\\right ), \\quad \\left ( \\frac{\\sqrt{146}}{2} + 7, \\quad -292.0\\right )\\right ]$$"
      ],
      "text/plain": [
       "⎡⎛  √146            ⎞              ⎛√146            ⎞⎤\n",
       "⎢⎜- ──── + 7, -292.0⎟, (7, 146.0), ⎜──── + 7, -292.0⎟⎥\n",
       "⎣⎝   2              ⎠              ⎝ 2              ⎠⎦"
      ]
     },
     "execution_count": 72,
     "metadata": {},
     "output_type": "execute_result"
    }
   ],
   "source": [
    "p_xx = diff(p, x, x)\n",
    "[(a, p_xx.subs(x, a).n()) for a in sorted(p_optimum)]"
   ]
  },
  {
   "cell_type": "markdown",
   "metadata": {},
   "source": [
    "**Réponse:** p atteint des maximum en x=0.95 et x=13.04, car la dérivée seconde est négative en ces points"
   ]
  },
  {
   "cell_type": "markdown",
   "metadata": {},
   "source": [
    "**Réponse:** p atteint un minimum en x=7, car la dérivée seconde est positive en ce point"
   ]
  },
  {
   "cell_type": "markdown",
   "metadata": {},
   "source": [
    "Calculer l'aire de la région $A=\\{(x,y):0\\leq y\\leq p(x)\\}$ bornée supérieurement par le polynôme $p(x)$ et\n",
    "inférieurement par l'abscisse."
   ]
  },
  {
   "cell_type": "code",
   "execution_count": 43,
   "metadata": {
    "collapsed": false
   },
   "outputs": [
    {
     "data": {
      "image/png": "[encoded data removed]",
      "text/plain": [
       "<matplotlib.figure.Figure at 0x7f8b9884b050>"
      ]
     },
     "metadata": {},
     "output_type": "display_data"
    },
    {
     "data": {
      "text/plain": [
       "<sympy.plotting.plot.Plot at 0x7f8b9886f510>"
      ]
     },
     "execution_count": 43,
     "metadata": {},
     "output_type": "execute_result"
    }
   ],
   "source": [
    "from sympy import plot\n",
    "plot(p, (x,-5, 20), ylim=(-1000,1000))"
   ]
  },
  {
   "cell_type": "code",
   "execution_count": 46,
   "metadata": {
    "collapsed": false
   },
   "outputs": [
    {
     "data": {
      "text/latex": [
       "$$\\left [ -1, \\quad 4, \\quad 10, \\quad 15\\right ]$$"
      ],
      "text/plain": [
       "[-1, 4, 10, 15]"
      ]
     },
     "execution_count": 46,
     "metadata": {},
     "output_type": "execute_result"
    }
   ],
   "source": [
    "p_racines = solve(p, x)\n",
    "p_racines"
   ]
  },
  {
   "cell_type": "code",
   "execution_count": 50,
   "metadata": {
    "collapsed": false
   },
   "outputs": [
    {
     "data": {
      "text/latex": [
       "$$\\frac{14500}{3}$$"
      ],
      "text/plain": [
       "14500/3"
      ]
     },
     "execution_count": 50,
     "metadata": {},
     "output_type": "execute_result"
    }
   ],
   "source": [
    "from sympy import integrate\n",
    "aire = integrate(p, (x,-1,4)) + integrate(p, (x,10, 15))\n",
    "aire"
   ]
  },
  {
   "cell_type": "code",
   "execution_count": 51,
   "metadata": {
    "collapsed": false
   },
   "outputs": [
    {
     "data": {
      "text/latex": [
       "$$4833.33333333333$$"
      ],
      "text/plain": [
       "4833.33333333333"
      ]
     },
     "execution_count": 51,
     "metadata": {},
     "output_type": "execute_result"
    }
   ],
   "source": [
    "aire.n()"
   ]
  },
  {
   "cell_type": "markdown",
   "metadata": {},
   "source": [
    "## Question 5\n",
    "On considère la fonction $f(x)=x^{x\\over 1-x}$ pour tout réel $x>0$. Donner le\n",
    "domaine de définition de $f$."
   ]
  },
  {
   "cell_type": "code",
   "execution_count": 57,
   "metadata": {
    "collapsed": true
   },
   "outputs": [],
   "source": [
    "from sympy import oo\n",
    "from sympy.abc import x\n",
    "f = x**(x/(1-x))"
   ]
  },
  {
   "cell_type": "code",
   "execution_count": 58,
   "metadata": {
    "collapsed": false
   },
   "outputs": [
    {
     "data": {
      "text/latex": [
       "$$\\left ( 1, \\quad \\mathrm{NaN}, \\quad \\mathrm{NaN}\\right )$$"
      ],
      "text/plain": [
       "(1, nan, nan)"
      ]
     },
     "execution_count": 58,
     "metadata": {},
     "output_type": "execute_result"
    }
   ],
   "source": [
    "f.subs(x,0), f.subs(x,1), f.subs(x,oo)"
   ]
  },
  {
   "cell_type": "markdown",
   "metadata": {
    "collapsed": true
   },
   "source": [
    "**Réponse:** le domaine est $[0, 1[\\cup]1,\\infty[$ si on accepte que $0^0=1$ est bien défini."
   ]
  },
  {
   "cell_type": "markdown",
   "metadata": {},
   "source": [
    "Calculer les limites de la fonction $f$ aux bornes des intervalles qui composent le domaine de $f$."
   ]
  },
  {
   "cell_type": "code",
   "execution_count": 59,
   "metadata": {
    "collapsed": false
   },
   "outputs": [
    {
     "data": {
      "text/latex": [
       "$$1$$"
      ],
      "text/plain": [
       "1"
      ]
     },
     "execution_count": 59,
     "metadata": {},
     "output_type": "execute_result"
    }
   ],
   "source": [
    "from sympy import limit\n",
    "limit(f, x, 0)"
   ]
  },
  {
   "cell_type": "code",
   "execution_count": 60,
   "metadata": {
    "collapsed": false
   },
   "outputs": [
    {
     "data": {
      "text/latex": [
       "$$e^{-1}$$"
      ],
      "text/plain": [
       " -1\n",
       "ℯ  "
      ]
     },
     "execution_count": 60,
     "metadata": {},
     "output_type": "execute_result"
    }
   ],
   "source": [
    "limit(f, x, 1)"
   ]
  },
  {
   "cell_type": "code",
   "execution_count": 61,
   "metadata": {
    "collapsed": false
   },
   "outputs": [
    {
     "data": {
      "text/latex": [
       "$$0$$"
      ],
      "text/plain": [
       "0"
      ]
     },
     "execution_count": 61,
     "metadata": {},
     "output_type": "execute_result"
    }
   ],
   "source": [
    "limit(f, x, oo)"
   ]
  },
  {
   "cell_type": "markdown",
   "metadata": {},
   "source": [
    "Expliquez comment prolonger $f$ par continuité aux points $x=0$ et $x=1$."
   ]
  },
  {
   "cell_type": "markdown",
   "metadata": {
    "collapsed": true
   },
   "source": [
    "**Réponse:** par le résultat des calculs des limites."
   ]
  },
  {
   "cell_type": "markdown",
   "metadata": {},
   "source": [
    "## Question 6\n",
    "On considère les vecteurs\n",
    "$v_1=(-8, 1, -10, 1, 6)$,\n",
    "$v_2=(-6, -10, 2, 10, -3)$,\n",
    "$v_3=(-2, 8, 10, 1, 10)$,\n",
    "$v_4=(-14, -9, -8, 11, 3)$,\n",
    "$v_5=(-2, -3, 5, -8, -6)$.\n",
    "Donner une base du sous espace vectoriel engendré par $v_1$, $v_2$, $v_3$, $v_4$\n",
    "et $v_5$."
   ]
  },
  {
   "cell_type": "code",
   "execution_count": 63,
   "metadata": {
    "collapsed": true
   },
   "outputs": [],
   "source": [
    "v1=(-8, 1, -10, 1, 6)\n",
    "v2=(-6, -10, 2, 10, -3)\n",
    "v3=(-2, 8, 10, 1, 10)\n",
    "v4=(-14, -9, -8, 11, 3)\n",
    "v5=(-2, -3, 5, -8, -6)"
   ]
  },
  {
   "cell_type": "code",
   "execution_count": 64,
   "metadata": {
    "collapsed": false
   },
   "outputs": [
    {
     "data": {
      "text/latex": [
       "$$\\left[\\begin{matrix}-8 & 1 & -10 & 1 & 6\\\\-6 & -10 & 2 & 10 & -3\\\\-2 & 8 & 10 & 1 & 10\\\\-14 & -9 & -8 & 11 & 3\\\\-2 & -3 & 5 & -8 & -6\\end{matrix}\\right]$$"
      ],
      "text/plain": [
       "⎡-8    1   -10  1   6 ⎤\n",
       "⎢                     ⎥\n",
       "⎢-6   -10   2   10  -3⎥\n",
       "⎢                     ⎥\n",
       "⎢-2    8   10   1   10⎥\n",
       "⎢                     ⎥\n",
       "⎢-14  -9   -8   11  3 ⎥\n",
       "⎢                     ⎥\n",
       "⎣-2   -3    5   -8  -6⎦"
      ]
     },
     "execution_count": 64,
     "metadata": {},
     "output_type": "execute_result"
    }
   ],
   "source": [
    "from sympy import Matrix\n",
    "M = Matrix([v1, v2, v3, v4, v5])\n",
    "M"
   ]
  },
  {
   "cell_type": "code",
   "execution_count": 68,
   "metadata": {
    "collapsed": false
   },
   "outputs": [
    {
     "data": {
      "text/latex": [
       "$$\\left[\\begin{matrix}1 & 0 & 0 & 0 & - \\frac{11373}{21334}\\\\0 & 1 & 0 & 0 & \\frac{11541}{10667}\\\\0 & 0 & 1 & 0 & - \\frac{200}{10667}\\\\0 & 0 & 0 & 1 & \\frac{4969}{10667}\\\\0 & 0 & 0 & 0 & 0\\end{matrix}\\right]$$"
      ],
      "text/plain": [
       "⎡            -11373 ⎤\n",
       "⎢1  0  0  0  ───────⎥\n",
       "⎢             21334 ⎥\n",
       "⎢                   ⎥\n",
       "⎢             11541 ⎥\n",
       "⎢0  1  0  0   ───── ⎥\n",
       "⎢             10667 ⎥\n",
       "⎢                   ⎥\n",
       "⎢             -200  ⎥\n",
       "⎢0  0  1  0   ───── ⎥\n",
       "⎢             10667 ⎥\n",
       "⎢                   ⎥\n",
       "⎢              4969 ⎥\n",
       "⎢0  0  0  1   ───── ⎥\n",
       "⎢             10667 ⎥\n",
       "⎢                   ⎥\n",
       "⎣0  0  0  0     0   ⎦"
      ]
     },
     "execution_count": 68,
     "metadata": {},
     "output_type": "execute_result"
    }
   ],
   "source": [
    "Mreduite, pivots = M.rref()\n",
    "Mreduite"
   ]
  },
  {
   "cell_type": "markdown",
   "metadata": {},
   "source": [
    "Le vecteur $w=(0, -6, -1, -8, 10)$ est-il dans ce sous-espace vectoriel?"
   ]
  },
  {
   "cell_type": "code",
   "execution_count": 69,
   "metadata": {
    "collapsed": false
   },
   "outputs": [
    {
     "data": {
      "text/latex": [
       "$$\\left ( \\left[\\begin{matrix}1 & 0 & 0 & 1 & 0 & 0\\\\0 & 1 & 0 & 1 & 0 & 0\\\\0 & 0 & 1 & 0 & 0 & 0\\\\0 & 0 & 0 & 0 & 1 & 0\\\\0 & 0 & 0 & 0 & 0 & 1\\end{matrix}\\right], \\quad \\left [ 0, \\quad 1, \\quad 2, \\quad 4, \\quad 5\\right ]\\right )$$"
      ],
      "text/plain": [
       "⎛⎡1  0  0  1  0  0⎤, [0, 1, 2, 4, 5]⎞\n",
       "⎜⎢                ⎥                 ⎟\n",
       "⎜⎢0  1  0  1  0  0⎥                 ⎟\n",
       "⎜⎢                ⎥                 ⎟\n",
       "⎜⎢0  0  1  0  0  0⎥                 ⎟\n",
       "⎜⎢                ⎥                 ⎟\n",
       "⎜⎢0  0  0  0  1  0⎥                 ⎟\n",
       "⎜⎢                ⎥                 ⎟\n",
       "⎝⎣0  0  0  0  0  1⎦                 ⎠"
      ]
     },
     "execution_count": 69,
     "metadata": {},
     "output_type": "execute_result"
    }
   ],
   "source": [
    "w = (0, -6, -1, -8, 10)\n",
    "M = Matrix([v1, v2, v3, v4, v5, w])\n",
    "M.transpose().rref()"
   ]
  },
  {
   "cell_type": "markdown",
   "metadata": {},
   "source": [
    "**Réponse:** NON, le système est incompatible"
   ]
  },
  {
   "cell_type": "markdown",
   "metadata": {},
   "source": [
    "Si oui, l'exprimer  comme combinaison linéaire des vecteurs de la base."
   ]
  },
  {
   "cell_type": "code",
   "execution_count": null,
   "metadata": {
    "collapsed": true
   },
   "outputs": [],
   "source": []
  }
 ],
 "metadata": {
  "kernelspec": {
   "display_name": "Python 2",
   "language": "python",
   "name": "python2"
  },
  "language_info": {
   "codemirror_mode": {
    "name": "ipython",
    "version": 2
   },
   "file_extension": ".py",
   "mimetype": "text/x-python",
   "name": "python",
   "nbconvert_exporter": "python",
   "pygments_lexer": "ipython2",
   "version": "2.7.10"
  }
 },
 "nbformat": 4,
 "nbformat_minor": 0
}
